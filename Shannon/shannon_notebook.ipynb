{
 "cells": [
  {
   "cell_type": "code",
   "execution_count": 1,
   "id": "b9bddbe1-7e05-4b8f-81fe-62f7c7ddfa09",
   "metadata": {},
   "outputs": [],
   "source": [
    "# Python Dependencies\n",
    "import pandas as pd\n",
    "import numpy as np\n",
    "from pathlib import Path\n"
   ]
  },
  {
   "cell_type": "code",
   "execution_count": 2,
   "id": "c4150f73-2051-4722-89a9-92361de1952e",
   "metadata": {},
   "outputs": [],
   "source": [
    "# Import findspark and initialize. \n",
    "import findspark\n",
    "findspark.init()"
   ]
  },
  {
   "cell_type": "code",
   "execution_count": 3,
   "id": "f9ca6c27-170b-462a-8a3d-32eaf49a24e8",
   "metadata": {},
   "outputs": [],
   "source": [
    "# Import packages\n",
    "from pyspark.sql import SparkSession\n",
    "from pyspark.sql.functions import col, to_date,when\n",
    "import time\n",
    "\n",
    "# Create a SparkSession\n",
    "spark = SparkSession.builder.appName(\"SparkSQL\").getOrCreate()"
   ]
  },
  {
   "cell_type": "code",
   "execution_count": 4,
   "id": "c1f73c60-f07e-4afd-ae25-54025d118de7",
   "metadata": {},
   "outputs": [],
   "source": [
    "# Store filepath in a variable\n",
    "constituents_path = Path(\"./Resources/constituents_sh.csv\")"
   ]
  },
  {
   "cell_type": "code",
   "execution_count": 5,
   "id": "57b4dd63-166a-4bf6-bcf0-cf75da1503c2",
   "metadata": {},
   "outputs": [
    {
     "name": "stdout",
     "output_type": "stream",
     "text": [
      "+--------------+-----------+-----+----------+-------------+----------------+--------------------+---------------+-----------------+---------------+---------------+--------------------+------------------+----------------+----------------+--------------------+--------------------+------------------+------------------+--------------------+----------+----+-----------+--------------------+--------------------+------+--------------+--------------------+---------------------+----+-----------------------+--------------------+---------------------+-----------------+\n",
      "|Constituent ID|       City|State|  Postcode|      Country|Constituent type|   Constituent codes|Lifetime giving|First gift amount|First gift type|First gift date|     First gift fund|Latest gift amount|Latest gift type|Latest gift date|    Latest gift fund|Greatest gift amount|Greatest gift type|Greatest gift date|  Greatest gift fund| Birthdate| Age|AgeInMonths|   PrimaryEmployment|           Education|Gender|Marital status|       Solicit codes|Student Organizations|Arts|Fraternal Organizations|     Men's Athletics|Scholarship Recipient|Women's Athletics|\n",
      "+--------------+-----------+-----+----------+-------------+----------------+--------------------+---------------+-----------------+---------------+---------------+--------------------+------------------+----------------+----------------+--------------------+--------------------+------------------+------------------+--------------------+----------+----+-----------+--------------------+--------------------+------+--------------+--------------------+---------------------+----+-----------------------+--------------------+---------------------+-----------------+\n",
      "|         60472|   Superior|   WI|54880-2556|United States|    Organization|Business (No star...|              0|             0.00|           NULL|           NULL|                NULL|              0.00|            NULL|            NULL|                NULL|                0.00|              NULL|              NULL|                NULL|      NULL|NULL|       NULL|                NULL|                NULL|  NULL|          NULL|                NULL|                 NULL|NULL|                   NULL|                NULL|                 NULL|             NULL|\n",
      "|         43735| Hermantown|   MN|55811-1755|United States|    Organization|Other Organizatio...|             50|            50.00|  One-time gift|      8/29/2012|Women's Cross Cou...|             50.00|   One-time gift|       8/29/2012|Women's Cross Cou...|               50.00|     One-time gift|         8/29/2012|Women's Cross Cou...|      NULL|NULL|       NULL|                NULL|                NULL|  NULL|          NULL|                NULL|                 NULL|NULL|                   NULL|                NULL|                 NULL|             NULL|\n",
      "|         60145|       Esko|   MN|55733-9645|United States|    Organization|Other Organizatio...|             50|            50.00|  One-time gift|      4/29/2019| VNSC Emergency Fund|             50.00|   One-time gift|       4/29/2019| VNSC Emergency Fund|               50.00|     One-time gift|         4/29/2019| VNSC Emergency Fund|      NULL|NULL|       NULL|                NULL|                NULL|  NULL|          NULL|                NULL|                 NULL|NULL|                   NULL|                NULL|                 NULL|             NULL|\n",
      "|         21332|       NULL| NULL|      NULL|United States|    Organization|Business (No star...|             25|            25.00|  One-time gift|      9/10/1985|0-Richard I Bong ...|             25.00|   One-time gift|       9/10/1985|0-Richard I Bong ...|               25.00|     One-time gift|         9/10/1985|0-Richard I Bong ...|      NULL|NULL|       NULL|                NULL|                NULL|  NULL|          NULL|                NULL|                 NULL|NULL|                   NULL|                NULL|                 NULL|             NULL|\n",
      "|         50410|   Superior|   WI|54880-1504|United States|    Organization|Business (No star...|              0|             0.00|           NULL|           NULL|                NULL|              0.00|            NULL|            NULL|                NULL|                0.00|              NULL|              NULL|                NULL|      NULL|NULL|       NULL|                NULL|                NULL|  NULL|          NULL|                NULL|                 NULL|NULL|                   NULL|                NULL|                 NULL|             NULL|\n",
      "|         21351|       NULL| NULL|      NULL|United States|    Organization|Business (No star...|            125|           125.00|  One-time gift|     10/25/1985|0-Touchdown Club ...|            125.00|   One-time gift|      10/25/1985|0-Touchdown Club ...|              125.00|     One-time gift|        10/25/1985|0-Touchdown Club ...|      NULL|NULL|       NULL|                NULL|                NULL|  NULL|          NULL|                NULL|                 NULL|NULL|                   NULL|                NULL|                 NULL|             NULL|\n",
      "|         36583|   Superior|   WI|54880-2934|United States|    Organization|Business (No star...|            450|            50.00|  One-time gift|      4/12/2005|Gigliotti, Tony, ...|            200.00|   One-time gift|      12/29/2023|Men's Cross Count...|              200.00|     One-time gift|        12/29/2023|Men's Cross Count...|      NULL|NULL|       NULL|         Avis Phelps|                NULL|  NULL|          NULL|                NULL|                 NULL|NULL|                   NULL|                NULL|                 NULL|             NULL|\n",
      "|         21368|     Duluth|   MN|55802-2107|United States|    Organization|Business (No star...|            600|           100.00|  One-time gift|       1/1/1970|0-Unassigned For ...|            500.00|   One-time gift|      12/19/1985|        0-Drama Fund|              500.00|     One-time gift|        12/19/1985|        0-Drama Fund|      NULL|NULL|       NULL|                NULL|                NULL|  NULL|          NULL|             No Mail|                 NULL|NULL|                   NULL|                NULL|                 NULL|             NULL|\n",
      "|         60471|   Superior|   WI|54880-1523|United States|    Organization|Business (No star...|              0|             0.00|           NULL|           NULL|                NULL|              0.00|            NULL|            NULL|                NULL|                0.00|              NULL|              NULL|                NULL|      NULL|NULL|       NULL|                NULL|                NULL|  NULL|          NULL|                NULL|                 NULL|NULL|                   NULL|                NULL|                 NULL|             NULL|\n",
      "|         60473|     Duluth|   MN|55802-2012|United States|    Organization|Business (No star...|              0|             0.00|           NULL|           NULL|                NULL|              0.00|            NULL|            NULL|                NULL|                0.00|              NULL|              NULL|                NULL|      NULL|NULL|       NULL|                NULL|                NULL|  NULL|          NULL|                NULL|                 NULL|NULL|                   NULL|                NULL|                 NULL|             NULL|\n",
      "|         21334|   Superior|   WI|54880-6653|United States|    Organization|Business (No star...|       1,825.00|           125.00|  One-time gift|      9/26/1985|0-Touchdown Club ...|            100.00|   One-time gift|       9/29/2008|   Hall of Fame Fund|              250.00|     One-time gift|         1/18/2005|\"National \"\"S\"\" C...|      NULL|NULL|       NULL|                NULL|                NULL|  NULL|          NULL|No Phone Solicita...|                 NULL|NULL|                   NULL|                NULL|                 NULL|             NULL|\n",
      "|         47343|   Superior|   WI|54880-2350|United States|    Organization|Business (No star...|              0|             0.00|           NULL|           NULL|                NULL|              0.00|            NULL|            NULL|                NULL|                0.00|              NULL|              NULL|                NULL|      NULL|NULL|       NULL| Eli Corbin,Co-Owner|                NULL|  NULL|          NULL|                NULL|                 NULL|NULL|                   NULL|                NULL|                 NULL|             NULL|\n",
      "|         47689|       NULL| NULL|      NULL|United States|      Individual|Attended Didn't G...|              0|             0.00|           NULL|           NULL|                NULL|              0.00|            NULL|            NULL|                NULL|                0.00|              NULL|              NULL|                NULL|      NULL|NULL|       NULL|                NULL|UW-Superior,Prima...|  Male|          NULL|                NULL|                 NULL|NULL|                   NULL|Basketball (No date)|                 NULL|             NULL|\n",
      "|         44089|       Mesa|   AZ|85205-5437|United States|      Individual|Alumni (No start ...|            350|           300.00|         Pledge|     10/25/2022|Men's Basketball ...|            250.00|   One-time gift|       4/10/2024|Men's Basketball ...|              300.00|            Pledge|        10/25/2022|Men's Basketball ...| 8/27/1990|  34|       NULL|Honeywell,Executi...|UW-Superior,Prima...|  Male|          NULL|                NULL|                 NULL|NULL|                   NULL|Basketball (No date)| Foundation Schola...|             NULL|\n",
      "|         47690|       NULL| NULL|      NULL|United States|      Individual|Former Parent (9/...|              0|             0.00|           NULL|           NULL|                NULL|              0.00|            NULL|            NULL|                NULL|                0.00|              NULL|              NULL|                NULL|      NULL|NULL|       NULL|                NULL|                NULL|  Male|          NULL|                NULL|                 NULL|NULL|                   NULL|                NULL|                 NULL|             NULL|\n",
      "|         39798|Saint Cloud|   MN|56303-2815|United States|      Individual|Former Parent (9/...|            240|           100.00|  One-time gift|      12/3/2008|Men's Basketball ...|             40.00|   One-time gift|      12/11/2013|Men's Basketball ...|              100.00|     One-time gift|         12/3/2008|Men's Basketball ...|      NULL|NULL|       NULL|                NULL|                NULL|Female|          NULL|                NULL|                 NULL|NULL|                   NULL|                NULL|                 NULL|             NULL|\n",
      "|          5616|Coon Valley|   WI|54623-8203|United States|      Individual|Alumni (No start ...|              0|             0.00|           NULL|           NULL|                NULL|              0.00|            NULL|            NULL|                NULL|                0.00|              NULL|              NULL|                NULL|      NULL|NULL|       NULL|                NULL|UW-Superior,Prima...|Female|          NULL|                NULL|                 NULL|NULL|                   NULL|                NULL|                 NULL|             NULL|\n",
      "|         32080|   Superior|   WI|54880-3200|United States|      Individual|Friend (No start ...|              0|             0.00|           NULL|           NULL|                NULL|              0.00|            NULL|            NULL|                NULL|                0.00|              NULL|              NULL|                NULL|      NULL|NULL|       NULL|                NULL|                NULL|  Male|          NULL|                NULL|                 NULL|NULL|                   NULL|                NULL|                 NULL|             NULL|\n",
      "|           312|     Hayden|   ID|     83835|United States|      Individual|Alumni (No start ...|              0|             0.00|           NULL|           NULL|                NULL|              0.00|            NULL|            NULL|                NULL|                0.00|              NULL|              NULL|                NULL|11/18/1913| 110|       NULL|                NULL|UW-Superior,Prima...|  Male|          NULL|                NULL|                 NULL|NULL|                   NULL|                NULL|                 NULL|             NULL|\n",
      "|         39070|  Elk Mound|   WI|54739-9298|United States|      Individual|Alumni (No start ...|             52|            52.00|  One-time gift|     11/17/2010|       Superior Fund|             52.00|   One-time gift|      11/17/2010|       Superior Fund|               52.00|     One-time gift|        11/17/2010|       Superior Fund| 8/17/1985|  39|       NULL|                NULL|UW-Superior,Prima...|Female|        Single|                NULL|                 NULL|NULL|                   NULL|                NULL|                 NULL|             NULL|\n",
      "+--------------+-----------+-----+----------+-------------+----------------+--------------------+---------------+-----------------+---------------+---------------+--------------------+------------------+----------------+----------------+--------------------+--------------------+------------------+------------------+--------------------+----------+----+-----------+--------------------+--------------------+------+--------------+--------------------+---------------------+----+-----------------------+--------------------+---------------------+-----------------+\n",
      "only showing top 20 rows\n",
      "\n"
     ]
    }
   ],
   "source": [
    "# 1. Read CSV file \n",
    "constituents_df = spark.read.csv(str(constituents_path), sep=\",\", header=True)\n",
    "# Show the dataframe\n",
    "constituents_df.show()"
   ]
  },
  {
   "cell_type": "code",
   "execution_count": 6,
   "id": "3d262796-6f55-4712-a55d-6f777484f472",
   "metadata": {},
   "outputs": [
    {
     "data": {
      "text/plain": [
       "['Constituent ID',\n",
       " 'City',\n",
       " 'State',\n",
       " 'Postcode',\n",
       " 'Country',\n",
       " 'Constituent type',\n",
       " 'Constituent codes',\n",
       " 'Lifetime giving',\n",
       " 'First gift amount',\n",
       " 'First gift type',\n",
       " 'First gift date',\n",
       " 'First gift fund',\n",
       " 'Latest gift amount',\n",
       " 'Latest gift type',\n",
       " 'Latest gift date',\n",
       " 'Latest gift fund',\n",
       " 'Greatest gift amount',\n",
       " 'Greatest gift type',\n",
       " 'Greatest gift date',\n",
       " 'Greatest gift fund',\n",
       " 'Birthdate',\n",
       " 'Age',\n",
       " 'AgeInMonths',\n",
       " 'PrimaryEmployment',\n",
       " 'Education',\n",
       " 'Gender',\n",
       " 'Marital status',\n",
       " 'Solicit codes',\n",
       " 'Student Organizations',\n",
       " 'Arts',\n",
       " 'Fraternal Organizations',\n",
       " \"Men's Athletics\",\n",
       " 'Scholarship Recipient',\n",
       " \"Women's Athletics\"]"
      ]
     },
     "execution_count": 6,
     "metadata": {},
     "output_type": "execute_result"
    }
   ],
   "source": [
    "constituents_df.columns"
   ]
  },
  {
   "cell_type": "code",
   "execution_count": 7,
   "id": "e68a9787-3f5f-4462-a90f-17324a529885",
   "metadata": {},
   "outputs": [
    {
     "name": "stdout",
     "output_type": "stream",
     "text": [
      "root\n",
      " |-- Constituent ID: string (nullable = true)\n",
      " |-- City: string (nullable = true)\n",
      " |-- State: string (nullable = true)\n",
      " |-- Postcode: string (nullable = true)\n",
      " |-- Country: string (nullable = true)\n",
      " |-- Constituent type: string (nullable = true)\n",
      " |-- Constituent codes: string (nullable = true)\n",
      " |-- Lifetime giving: string (nullable = true)\n",
      " |-- First gift amount: string (nullable = true)\n",
      " |-- First gift type: string (nullable = true)\n",
      " |-- First gift date: string (nullable = true)\n",
      " |-- First gift fund: string (nullable = true)\n",
      " |-- Latest gift amount: string (nullable = true)\n",
      " |-- Latest gift type: string (nullable = true)\n",
      " |-- Latest gift date: string (nullable = true)\n",
      " |-- Latest gift fund: string (nullable = true)\n",
      " |-- Greatest gift amount: string (nullable = true)\n",
      " |-- Greatest gift type: string (nullable = true)\n",
      " |-- Greatest gift date: string (nullable = true)\n",
      " |-- Greatest gift fund: string (nullable = true)\n",
      " |-- Birthdate: string (nullable = true)\n",
      " |-- Age: string (nullable = true)\n",
      " |-- AgeInMonths: string (nullable = true)\n",
      " |-- PrimaryEmployment: string (nullable = true)\n",
      " |-- Education: string (nullable = true)\n",
      " |-- Gender: string (nullable = true)\n",
      " |-- Marital status: string (nullable = true)\n",
      " |-- Solicit codes: string (nullable = true)\n",
      " |-- Student Organizations: string (nullable = true)\n",
      " |-- Arts: string (nullable = true)\n",
      " |-- Fraternal Organizations: string (nullable = true)\n",
      " |-- Men's Athletics: string (nullable = true)\n",
      " |-- Scholarship Recipient: string (nullable = true)\n",
      " |-- Women's Athletics: string (nullable = true)\n",
      "\n"
     ]
    }
   ],
   "source": [
    "constituents_df.printSchema()"
   ]
  },
  {
   "cell_type": "code",
   "execution_count": 8,
   "id": "c85f6d45-dc76-4f12-beb3-b0c4f14aec2a",
   "metadata": {},
   "outputs": [],
   "source": [
    "#Change amounts coulumns to decimals \n",
    "constituents_df = constituents_df.withColumn(\"Lifetime giving\", col(\"Lifetime giving\").cast(\"decimal\"))\n",
    "constituents_df = constituents_df.withColumn(\"First gift amount\", col(\"First gift amount\").cast(\"decimal\"))\n",
    "onstituents_df = constituents_df.withColumn(\"Latest gift amount\", col(\"Latest gift amount\").cast(\"decimal\"))\n",
    "constituents_df = constituents_df.withColumn(\"Greatest gift amount\", col(\"Greatest gift amount\").cast(\"decimal\"))\n",
    "# Change to date format\n",
    "#constituents_df = constituents_df.withColumn(\"First gift date\", to_date(col(\"First gift date\"), \"MM-dd-yyyy\"))\n",
    "#constituents_df = constituents_df.withColumn(\"Latest gift date\", to_date(col(\"Latest gift date\"), \"MM-dd-yyyy\"))\n",
    "#constituents_df = constituents_df.withColumn(\"Greatest gift date\", to_date(col(\"Greatest gift date\"), \"MM-dd-yyyy\"))"
   ]
  },
  {
   "cell_type": "code",
   "execution_count": 9,
   "id": "e0c63136-6811-47a2-9d68-80d398491ad1",
   "metadata": {},
   "outputs": [],
   "source": [
    "#Add new column for repeated \n",
    "constituents_df = constituents_df.withColumn('repeatedConstituents', when(col('Lifetime giving') > col('First gift amount'), 'Yes').otherwise('No'))"
   ]
  },
  {
   "cell_type": "code",
   "execution_count": 10,
   "id": "4f295e43-caec-4586-923f-a190a1c02be5",
   "metadata": {},
   "outputs": [],
   "source": [
    "#Create a temporary view of the DataFrame.\n",
    "constituents_df.createOrReplaceTempView('constituents')"
   ]
  },
  {
   "cell_type": "code",
   "execution_count": 16,
   "id": "1c38cb0c-4185-4fd0-a91e-8985d2b1012a",
   "metadata": {},
   "outputs": [
    {
     "name": "stdout",
     "output_type": "stream",
     "text": [
      "+--------------+---------------+-----------------+---------------+------------------+----------------+--------------------+------------------+--------------------+\n",
      "|Constituent ID|Lifetime giving|First gift amount|First gift date|Latest gift amount|Latest gift date|Greatest gift amount|Greatest gift date|repeatedConstituents|\n",
      "+--------------+---------------+-----------------+---------------+------------------+----------------+--------------------+------------------+--------------------+\n",
      "|         36583|            450|               50|      4/12/2005|            200.00|      12/29/2023|                 200|        12/29/2023|                 Yes|\n",
      "|         21368|            600|              100|       1/1/1970|            500.00|      12/19/1985|                 500|        12/19/1985|                 Yes|\n",
      "|         44089|            350|              300|     10/25/2022|            250.00|       4/10/2024|                 300|        10/25/2022|                 Yes|\n",
      "|         39798|            240|              100|      12/3/2008|             40.00|      12/11/2013|                 100|         12/3/2008|                 Yes|\n",
      "|          8185|            280|               25|      11/8/1999|             25.00|      12/28/2015|                  40|          4/5/2005|                 Yes|\n",
      "|          2384|             50|               35|       1/1/1970|              5.00|       7/29/1986|                  35|          1/1/1970|                 Yes|\n",
      "|         27223|            100|               50|     11/15/2000|             50.00|      12/19/2001|                  50|        11/15/2000|                 Yes|\n",
      "|         20662|             35|               10|      2/12/1990|             25.00|       8/16/2004|                  25|         8/16/2004|                 Yes|\n",
      "|          9194|             75|               25|      2/17/2003|             50.00|        3/9/2004|                  50|        10/30/2003|                 Yes|\n",
      "|          3782|            395|               10|      4/10/1990|            100.00|       3/14/2003|                 100|        10/14/1999|                 Yes|\n",
      "|          3048|            500|              100|     10/13/1986|             20.00|       1/15/1991|                 100|        10/13/1986|                 Yes|\n",
      "|         37486|            400|               50|      12/3/2012|             50.00|       4/26/2022|                 100|          4/8/2021|                 Yes|\n",
      "|         29668|            175|               25|      12/8/1986|            100.00|       9/14/1988|                 100|         9/14/1988|                 Yes|\n",
      "|         68327|             35|               25|      6/25/2004|             10.00|       1/17/2006|                  25|         6/25/2004|                 Yes|\n",
      "|         14051|            400|               50|     10/19/2010|            100.00|       3/11/2016|                 100|         7/25/2012|                 Yes|\n",
      "|         36614|            160|               80|       5/3/2005|             40.00|       4/22/2009|                  80|          5/3/2005|                 Yes|\n",
      "|         42023|            150|               50|       8/9/2011|             50.00|      11/18/2013|                  50|          8/9/2011|                 Yes|\n",
      "|         42088|            265|              140|       9/7/2011|             75.00|      10/18/2013|                 140|          9/7/2011|                 Yes|\n",
      "|         47840|            400|              200|      10/8/2013|            200.00|       9/23/2014|                 200|         10/8/2013|                 Yes|\n",
      "|         20126|            550|              200|       1/1/1970|            150.00|        1/8/1988|                 200|          1/1/1970|                 Yes|\n",
      "+--------------+---------------+-----------------+---------------+------------------+----------------+--------------------+------------------+--------------------+\n",
      "only showing top 20 rows\n",
      "\n"
     ]
    }
   ],
   "source": [
    "# Check the view data\n",
    "spark.sql(\"\"\"SELECT \n",
    "            `Constituent ID`,`Lifetime giving`,\n",
    "             `First gift amount`,`First gift date`,\n",
    "             `Latest gift amount`,`Latest gift date`,\n",
    "             `Greatest gift amount`,`Greatest gift date`,\n",
    "             repeatedConstituents\n",
    "             \n",
    "   FROM \n",
    "       constituents \n",
    "   WHERE \n",
    "   repeatedConstituents='Yes'\n",
    "    \n",
    "   \"\"\").show()"
   ]
  },
  {
   "cell_type": "code",
   "execution_count": 12,
   "id": "c950c02c-a442-42aa-97b2-773c5caea6a4",
   "metadata": {},
   "outputs": [
    {
     "name": "stdout",
     "output_type": "stream",
     "text": [
      "+------------------------------+\n",
      "|count(DISTINCT Constituent ID)|\n",
      "+------------------------------+\n",
      "|                         50913|\n",
      "+------------------------------+\n",
      "\n"
     ]
    }
   ],
   "source": [
    "#Count distinct donors \n",
    "spark.sql(\"\"\"SELECT \n",
    "            count(distinct(`Constituent ID`))\n",
    "   FROM \n",
    "       constituents \n",
    "    \n",
    "   \"\"\").show()"
   ]
  },
  {
   "cell_type": "code",
   "execution_count": 13,
   "id": "b60e992a-c9ca-4cf9-8168-ad3820c640bf",
   "metadata": {},
   "outputs": [
    {
     "name": "stdout",
     "output_type": "stream",
     "text": [
      "+------------------------------+\n",
      "|count(DISTINCT Constituent ID)|\n",
      "+------------------------------+\n",
      "|                         39140|\n",
      "+------------------------------+\n",
      "\n"
     ]
    }
   ],
   "source": [
    "#count the number of donors whos has not contribute yet \n",
    "spark.sql(\"\"\"SELECT \n",
    "            count(distinct(`Constituent ID`))\n",
    "   FROM \n",
    "       constituents \n",
    "   WHERE \n",
    "    `First gift amount`=0\n",
    "    \n",
    "   \"\"\").show()"
   ]
  },
  {
   "cell_type": "code",
   "execution_count": 18,
   "id": "815ff852-230c-4190-a285-87b4757a9f6f",
   "metadata": {},
   "outputs": [
    {
     "name": "stdout",
     "output_type": "stream",
     "text": [
      "+--------+\n",
      "|count(1)|\n",
      "+--------+\n",
      "|    4358|\n",
      "+--------+\n",
      "\n"
     ]
    }
   ],
   "source": [
    "#Repeated donors\n",
    "spark.sql(\"\"\"SELECT \n",
    "        count(*)\n",
    "   FROM \n",
    "       constituents \n",
    "   WHERE \n",
    "   `repeatedConstituents`='Yes'\n",
    "   \"\"\").show()\n"
   ]
  },
  {
   "cell_type": "code",
   "execution_count": 32,
   "id": "698265fd-f7e7-4a90-8b28-d083553f0f72",
   "metadata": {},
   "outputs": [
    {
     "name": "stdout",
     "output_type": "stream",
     "text": [
      "+---------------------+\n",
      "|count(Constituent ID)|\n",
      "+---------------------+\n",
      "|                  150|\n",
      "+---------------------+\n",
      "\n"
     ]
    }
   ],
   "source": [
    "#Null information among the active donors\n",
    "spark.sql(\"\"\"\n",
    "   SELECT \n",
    "      COUNT(`Constituent ID`)\n",
    "   FROM \n",
    "       constituents \n",
    "   WHERE \n",
    "      `First gift amount` > 0 AND City IS NULL\n",
    "\n",
    "\"\"\").show()"
   ]
  },
  {
   "cell_type": "code",
   "execution_count": 30,
   "id": "94484da9-114e-437e-acf7-e56aa22c70ac",
   "metadata": {},
   "outputs": [
    {
     "name": "stdout",
     "output_type": "stream",
     "text": [
      "+--------------------+--------------+\n",
      "|     First gift fund|totConstituent|\n",
      "+--------------------+--------------+\n",
      "|Women's Basketbal...|           310|\n",
      "|Business and Econ...|            34|\n",
      "|Multicultural Cen...|            11|\n",
      "|Mary Jo Gangnon M...|             9|\n",
      "|General Charles C...|             8|\n",
      "|0-Francis C DeVin...|             2|\n",
      "|Davis, John Bloom...|            46|\n",
      "|Robert Banks Memo...|            11|\n",
      "|     Mock Trial Fund|            37|\n",
      "|Superior Voices S...|             5|\n",
      "| Women's Tennis Fund|            65|\n",
      "|Everson, Dr. and ...|             7|\n",
      "|Boswell, Melinda,...|             1|\n",
      "|0-Center Court Cl...|            14|\n",
      "|Kyllo, Hester, Sc...|             1|\n",
      "|Distance Learning...|             9|\n",
      "| Women's Hockey Fund|           146|\n",
      "|Grad Psych Develo...|             1|\n",
      "|SCCU Stadium Dan ...|            13|\n",
      "|Brown, Maurice, S...|             4|\n",
      "+--------------------+--------------+\n",
      "only showing top 20 rows\n",
      "\n"
     ]
    }
   ],
   "source": [
    "#Group records as per the funds \n",
    "spark.sql(\"\"\"\n",
    "   SELECT \n",
    "      `First gift fund`,count(`Constituent ID`) as totConstituent\n",
    "   FROM \n",
    "       constituents \n",
    "   WHERE \n",
    "      `First gift amount` > 0 \n",
    "  GROUP BY  `First gift fund`\n",
    "\n",
    "\"\"\").show()"
   ]
  },
  {
   "cell_type": "code",
   "execution_count": 15,
   "id": "d0babcd7-3cd5-40d2-99bc-dc3fa63703ea",
   "metadata": {},
   "outputs": [
    {
     "data": {
      "text/html": [
       "<div>\n",
       "<style scoped>\n",
       "    .dataframe tbody tr th:only-of-type {\n",
       "        vertical-align: middle;\n",
       "    }\n",
       "\n",
       "    .dataframe tbody tr th {\n",
       "        vertical-align: top;\n",
       "    }\n",
       "\n",
       "    .dataframe thead th {\n",
       "        text-align: right;\n",
       "    }\n",
       "</style>\n",
       "<table border=\"1\" class=\"dataframe\">\n",
       "  <thead>\n",
       "    <tr style=\"text-align: right;\">\n",
       "      <th></th>\n",
       "      <th>Constituent ID</th>\n",
       "      <th>City</th>\n",
       "      <th>State</th>\n",
       "      <th>Postcode</th>\n",
       "      <th>Country</th>\n",
       "      <th>Constituent type</th>\n",
       "      <th>Constituent codes</th>\n",
       "      <th>Lifetime giving</th>\n",
       "      <th>First gift amount</th>\n",
       "      <th>First gift type</th>\n",
       "      <th>...</th>\n",
       "      <th>Gender</th>\n",
       "      <th>Marital status</th>\n",
       "      <th>Solicit codes</th>\n",
       "      <th>Student Organizations</th>\n",
       "      <th>Arts</th>\n",
       "      <th>Fraternal Organizations</th>\n",
       "      <th>Men's Athletics</th>\n",
       "      <th>Scholarship Recipient</th>\n",
       "      <th>Women's Athletics</th>\n",
       "      <th>repeatedConstituents</th>\n",
       "    </tr>\n",
       "  </thead>\n",
       "  <tbody>\n",
       "    <tr>\n",
       "      <th>0</th>\n",
       "      <td>60472</td>\n",
       "      <td>Superior</td>\n",
       "      <td>WI</td>\n",
       "      <td>54880-2556</td>\n",
       "      <td>United States</td>\n",
       "      <td>Organization</td>\n",
       "      <td>Business (No start date - No end date)</td>\n",
       "      <td>0</td>\n",
       "      <td>0</td>\n",
       "      <td>None</td>\n",
       "      <td>...</td>\n",
       "      <td>None</td>\n",
       "      <td>None</td>\n",
       "      <td>None</td>\n",
       "      <td>None</td>\n",
       "      <td>None</td>\n",
       "      <td>None</td>\n",
       "      <td>None</td>\n",
       "      <td>None</td>\n",
       "      <td>None</td>\n",
       "      <td>No</td>\n",
       "    </tr>\n",
       "    <tr>\n",
       "      <th>1</th>\n",
       "      <td>43735</td>\n",
       "      <td>Hermantown</td>\n",
       "      <td>MN</td>\n",
       "      <td>55811-1755</td>\n",
       "      <td>United States</td>\n",
       "      <td>Organization</td>\n",
       "      <td>Other Organizations (8/29/2012 - No end date)</td>\n",
       "      <td>50</td>\n",
       "      <td>50</td>\n",
       "      <td>One-time gift</td>\n",
       "      <td>...</td>\n",
       "      <td>None</td>\n",
       "      <td>None</td>\n",
       "      <td>None</td>\n",
       "      <td>None</td>\n",
       "      <td>None</td>\n",
       "      <td>None</td>\n",
       "      <td>None</td>\n",
       "      <td>None</td>\n",
       "      <td>None</td>\n",
       "      <td>No</td>\n",
       "    </tr>\n",
       "    <tr>\n",
       "      <th>2</th>\n",
       "      <td>60145</td>\n",
       "      <td>Esko</td>\n",
       "      <td>MN</td>\n",
       "      <td>55733-9645</td>\n",
       "      <td>United States</td>\n",
       "      <td>Organization</td>\n",
       "      <td>Other Organizations (No start date - No end date)</td>\n",
       "      <td>50</td>\n",
       "      <td>50</td>\n",
       "      <td>One-time gift</td>\n",
       "      <td>...</td>\n",
       "      <td>None</td>\n",
       "      <td>None</td>\n",
       "      <td>None</td>\n",
       "      <td>None</td>\n",
       "      <td>None</td>\n",
       "      <td>None</td>\n",
       "      <td>None</td>\n",
       "      <td>None</td>\n",
       "      <td>None</td>\n",
       "      <td>No</td>\n",
       "    </tr>\n",
       "    <tr>\n",
       "      <th>3</th>\n",
       "      <td>21332</td>\n",
       "      <td>None</td>\n",
       "      <td>None</td>\n",
       "      <td>None</td>\n",
       "      <td>United States</td>\n",
       "      <td>Organization</td>\n",
       "      <td>Business (No start date - No end date)</td>\n",
       "      <td>25</td>\n",
       "      <td>25</td>\n",
       "      <td>One-time gift</td>\n",
       "      <td>...</td>\n",
       "      <td>None</td>\n",
       "      <td>None</td>\n",
       "      <td>None</td>\n",
       "      <td>None</td>\n",
       "      <td>None</td>\n",
       "      <td>None</td>\n",
       "      <td>None</td>\n",
       "      <td>None</td>\n",
       "      <td>None</td>\n",
       "      <td>No</td>\n",
       "    </tr>\n",
       "    <tr>\n",
       "      <th>4</th>\n",
       "      <td>50410</td>\n",
       "      <td>Superior</td>\n",
       "      <td>WI</td>\n",
       "      <td>54880-1504</td>\n",
       "      <td>United States</td>\n",
       "      <td>Organization</td>\n",
       "      <td>Business (No start date - No end date)</td>\n",
       "      <td>0</td>\n",
       "      <td>0</td>\n",
       "      <td>None</td>\n",
       "      <td>...</td>\n",
       "      <td>None</td>\n",
       "      <td>None</td>\n",
       "      <td>None</td>\n",
       "      <td>None</td>\n",
       "      <td>None</td>\n",
       "      <td>None</td>\n",
       "      <td>None</td>\n",
       "      <td>None</td>\n",
       "      <td>None</td>\n",
       "      <td>No</td>\n",
       "    </tr>\n",
       "  </tbody>\n",
       "</table>\n",
       "<p>5 rows × 35 columns</p>\n",
       "</div>"
      ],
      "text/plain": [
       "  Constituent ID        City State    Postcode        Country  \\\n",
       "0          60472    Superior    WI  54880-2556  United States   \n",
       "1          43735  Hermantown    MN  55811-1755  United States   \n",
       "2          60145        Esko    MN  55733-9645  United States   \n",
       "3          21332        None  None        None  United States   \n",
       "4          50410    Superior    WI  54880-1504  United States   \n",
       "\n",
       "  Constituent type                                  Constituent codes  \\\n",
       "0     Organization             Business (No start date - No end date)   \n",
       "1     Organization      Other Organizations (8/29/2012 - No end date)   \n",
       "2     Organization  Other Organizations (No start date - No end date)   \n",
       "3     Organization             Business (No start date - No end date)   \n",
       "4     Organization             Business (No start date - No end date)   \n",
       "\n",
       "  Lifetime giving First gift amount First gift type  ... Gender  \\\n",
       "0               0                 0            None  ...   None   \n",
       "1              50                50   One-time gift  ...   None   \n",
       "2              50                50   One-time gift  ...   None   \n",
       "3              25                25   One-time gift  ...   None   \n",
       "4               0                 0            None  ...   None   \n",
       "\n",
       "  Marital status Solicit codes Student Organizations  Arts  \\\n",
       "0           None          None                  None  None   \n",
       "1           None          None                  None  None   \n",
       "2           None          None                  None  None   \n",
       "3           None          None                  None  None   \n",
       "4           None          None                  None  None   \n",
       "\n",
       "  Fraternal Organizations Men's Athletics Scholarship Recipient  \\\n",
       "0                    None            None                  None   \n",
       "1                    None            None                  None   \n",
       "2                    None            None                  None   \n",
       "3                    None            None                  None   \n",
       "4                    None            None                  None   \n",
       "\n",
       "  Women's Athletics repeatedConstituents  \n",
       "0              None                   No  \n",
       "1              None                   No  \n",
       "2              None                   No  \n",
       "3              None                   No  \n",
       "4              None                   No  \n",
       "\n",
       "[5 rows x 35 columns]"
      ]
     },
     "execution_count": 15,
     "metadata": {},
     "output_type": "execute_result"
    }
   ],
   "source": [
    "#Convert to Pandas dataframe\n",
    "constituents_pd_df = constituents_df.toPandas()\n",
    "constituents_pd_df.head()"
   ]
  },
  {
   "cell_type": "code",
   "execution_count": null,
   "id": "4d1edd93-17ec-41f3-8ec7-48ff1b9bc4d3",
   "metadata": {},
   "outputs": [],
   "source": []
  },
  {
   "cell_type": "code",
   "execution_count": null,
   "id": "1ce5eb60-0236-41de-b1ce-b5f30eaf3f37",
   "metadata": {},
   "outputs": [],
   "source": []
  },
  {
   "cell_type": "code",
   "execution_count": null,
   "id": "54dd9bdb-fa3f-4679-8dae-f43f816ce1c8",
   "metadata": {},
   "outputs": [],
   "source": []
  }
 ],
 "metadata": {
  "kernelspec": {
   "display_name": "Python 3 (ipykernel)",
   "language": "python",
   "name": "python3"
  },
  "language_info": {
   "codemirror_mode": {
    "name": "ipython",
    "version": 3
   },
   "file_extension": ".py",
   "mimetype": "text/x-python",
   "name": "python",
   "nbconvert_exporter": "python",
   "pygments_lexer": "ipython3",
   "version": "3.11.7"
  }
 },
 "nbformat": 4,
 "nbformat_minor": 5
}
